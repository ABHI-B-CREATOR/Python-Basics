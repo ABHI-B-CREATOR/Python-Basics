{
 "cells": [
  {
   "cell_type": "markdown",
   "id": "c68f5c09-4c6e-42b5-aff7-1bfb29fc530a",
   "metadata": {},
   "source": [
    "Question-1 What is Python, and why is it popular ?\n",
    "\n",
    "- python is a programming language which helps to create rules and instruction for a computer to follow. Python is a language which is used to give set of special symbols and rules that you use to give instruction to a computer .\n",
    "\n",
    "why is it popular ?\n",
    "- widely used in the industry\n",
    "- simplicity\n",
    "- lot of libraries\n",
    "- huge active community\n",
    "- verstality (web dev , ml , etc ...)"
   ]
  },
  {
   "cell_type": "markdown",
   "id": "7755b7a4-218a-49f7-913f-64310ede8044",
   "metadata": {},
   "source": [
    "Question-2 What is an interpreter in Python ?\n",
    "\n",
    "- A Python interpreter is a computer program that translates Python code into machine code, allowing the computer to understand and execute the code."
   ]
  },
  {
   "cell_type": "markdown",
   "id": "cd238a6f-af4e-4431-a02a-06e14e124292",
   "metadata": {},
   "source": [
    "Question-3 What are pre-defined keywords in Python?\n",
    "\n",
    "- Pre-defined keywords is nothing but reserved word that have special meaning and keywords cannot be used as variable.\n"
   ]
  },
  {
   "cell_type": "markdown",
   "id": "52011c6f-cedf-4a25-886a-ee9e3e3d0f1c",
   "metadata": {},
   "source": [
    "Question-4 Can keywords be used as variable names?\n",
    "\n",
    "- No it cannot be used as variable names.\n"
   ]
  },
  {
   "cell_type": "markdown",
   "id": "75a57303-d8df-4dfa-b943-c3a1b9f3e439",
   "metadata": {},
   "source": [
    "Question-5 What is mutability in Python?\n",
    "\n",
    "- Mutability in python is changing or extracting object's after its creation.\n"
   ]
  },
  {
   "cell_type": "markdown",
   "id": "00e8cec7-bb85-4ddc-9f60-061b0582427e",
   "metadata": {},
   "source": [
    "Question-6 Why are lists mutable, but tuples are immutable?\n",
    "\n",
    "- List are mutable data type because it changed the objects after it's created ,on the other hand tuples are immutable because it cannot changed object after it's created."
   ]
  },
  {
   "cell_type": "markdown",
   "id": "4499c377-57da-42ba-817e-70afdacc56c2",
   "metadata": {},
   "source": [
    "Question-7 What is the difference between “==” and “is” operators in Python ?\n",
    "\n",
    "- This \"==\" equal operator is used if the value of two variable is same , while the 'is' operator is used if two variables holds the same objects in the memory.\n"
   ]
  },
  {
   "cell_type": "markdown",
   "id": "17a85eee-122d-45ac-926e-cf6e13926207",
   "metadata": {},
   "source": [
    "Question-8 What are logical operators in Python?\n",
    "\n",
    "- The logical operators in python are :-\n",
    "\n",
    "And\n",
    "\n",
    "Or\n",
    "\n",
    "Not\n"
   ]
  },
  {
   "cell_type": "markdown",
   "id": "512355e8-568c-45f4-9430-de5b3a582f7e",
   "metadata": {},
   "source": [
    "Question-9 What is type casting in Python?\n",
    "\n",
    "- Type casting in python is to change the data type into another data type . for example : changing an interger into float or change complex number into string . It is known as data type conversion or type casting.\n"
   ]
  },
  {
   "cell_type": "markdown",
   "id": "082b1297-fe66-4a34-8ec9-34cb99604254",
   "metadata": {},
   "source": [
    "Question-10 What is the difference between implicit and explicit type casting?\n",
    "\n",
    "- Implicit : it is a type casting automatically done by the complier.\n",
    "\n",
    "- Explicit : it is a type casting which is manually done by the programmer."
   ]
  },
  {
   "cell_type": "markdown",
   "id": "1f8d9563-dfed-4e27-9ac3-3daf6b88442b",
   "metadata": {},
   "source": [
    "Question-11 What is the purpose of conditional statements in Python?\n",
    "\n",
    "- It helps to code decisions with some precondition. They allow you to make decision based on the values of the variables or result of comparisons."
   ]
  },
  {
   "cell_type": "markdown",
   "id": "a04a6674-6909-4493-b987-537ad2bead18",
   "metadata": {},
   "source": [
    "Question-12 How does the elif statement work?\n",
    "\n",
    "- Elif statement work to write multiple statements or conditions to check wheather it's true or false."
   ]
  },
  {
   "cell_type": "markdown",
   "id": "abc21dfd-194b-4ce1-b2ae-c0190c686a50",
   "metadata": {},
   "source": [
    "Question-13 What is the difference between for and while loops?\n",
    "\n",
    "- For \"for\" loop is something when you know how many times a block of code is repeatedly ,whereas a \"while\" loop is when you don't know how many times a block of code is repeatedly ,until it met a certain condition."
   ]
  },
  {
   "cell_type": "markdown",
   "id": "3f07ff78-7c4e-492c-b221-b35803faf515",
   "metadata": {},
   "source": [
    "Question-14 Describe a scenario where a while loop is more suitable than a for loop?\n",
    "\n",
    "- \"While\" loop is more suitable than a \"for\" loop when you don't know how many times the number iterates and want to continue the loop until a specific condition dosen't meet.\n",
    "\n",
    "for example :\n"
   ]
  },
  {
   "cell_type": "code",
   "execution_count": 11,
   "id": "3ab52fe7-ba59-4ab2-a954-e9c0db346225",
   "metadata": {},
   "outputs": [
    {
     "name": "stdout",
     "output_type": "stream",
     "text": [
      "50\n",
      "49\n",
      "48\n",
      "47\n",
      "46\n",
      "45\n",
      "44\n",
      "43\n",
      "42\n",
      "41\n",
      "this will excecute when while is true \n"
     ]
    }
   ],
   "source": [
    "a = 40\n",
    "i=50\n",
    "while i > a :\n",
    "    print (i)\n",
    "    i = i-1\n",
    "else :\n",
    "    print (\"this will excecute when while is true \")\n",
    "\n",
    "\n",
    "    "
   ]
  },
  {
   "cell_type": "markdown",
   "id": "a05e79b9-bd7a-4c92-b7f0-e2db98956538",
   "metadata": {},
   "source": [
    "## PRACTICAL QUESTIONS"
   ]
  },
  {
   "cell_type": "markdown",
   "id": "7f19b0dd-3047-4e16-9c58-9d245e0e7aa4",
   "metadata": {},
   "source": [
    "Question-1 Write a Python program to print \"Hello, World! ?"
   ]
  },
  {
   "cell_type": "code",
   "execution_count": 12,
   "id": "964ebcab-68ca-4a7f-93d9-9257e5bec5f6",
   "metadata": {},
   "outputs": [
    {
     "name": "stdout",
     "output_type": "stream",
     "text": [
      "Hello World \n"
     ]
    }
   ],
   "source": [
    "print (\"Hello World \")"
   ]
  },
  {
   "cell_type": "markdown",
   "id": "d2b29e06-fbd7-443c-aa33-0a1ed517b78e",
   "metadata": {},
   "source": [
    "Question-2 Write a Python program that displays your name and age?"
   ]
  },
  {
   "cell_type": "code",
   "execution_count": 21,
   "id": "ea38b285-1ee9-45ab-bd2d-9701e50a0856",
   "metadata": {},
   "outputs": [
    {
     "name": "stdin",
     "output_type": "stream",
     "text": [
      " enter your name  ABHI\n",
      "enter your age 20\n"
     ]
    }
   ],
   "source": [
    "Name = input (' enter your name ')\n",
    "Age = int ( input ('enter your age'))"
   ]
  },
  {
   "cell_type": "markdown",
   "id": "0ae8d47c-cd82-493f-8561-f38b809ab4ff",
   "metadata": {},
   "source": [
    "Question-3 Write code to print all the pre-defined keywords in Python using the keyword library ?"
   ]
  },
  {
   "cell_type": "code",
   "execution_count": 24,
   "id": "f9acdcc7-9101-4622-85c8-797365274f78",
   "metadata": {},
   "outputs": [
    {
     "name": "stdout",
     "output_type": "stream",
     "text": [
      "\n",
      "Here is a list of the Python keywords.  Enter any keyword to get more help.\n",
      "\n",
      "False               class               from                or\n",
      "None                continue            global              pass\n",
      "True                def                 if                  raise\n",
      "and                 del                 import              return\n",
      "as                  elif                in                  try\n",
      "assert              else                is                  while\n",
      "async               except              lambda              with\n",
      "await               finally             nonlocal            yield\n",
      "break               for                 not                 \n",
      "\n"
     ]
    }
   ],
   "source": [
    "help ('keywords')"
   ]
  },
  {
   "cell_type": "markdown",
   "id": "1ef480c6-32bc-4984-b308-c2cf1614162c",
   "metadata": {},
   "source": [
    "Question-4 Write a program that checks if a given word is a Python keyword ?\n"
   ]
  },
  {
   "cell_type": "code",
   "execution_count": 2,
   "id": "4970d201-c21c-4c3a-a240-6f84562f1c1d",
   "metadata": {},
   "outputs": [
    {
     "name": "stdin",
     "output_type": "stream",
     "text": [
      "enter a word to check a python keyword continue\n"
     ]
    },
    {
     "name": "stdout",
     "output_type": "stream",
     "text": [
      "'continue' is a python keyword!\n"
     ]
    }
   ],
   "source": [
    "import keyword\n",
    "\n",
    "word = input ('enter a word to check a python keyword')\n",
    "if keyword.iskeyword(word):\n",
    "    print (f\"'{word}' is a python keyword!\")\n",
    "else :\n",
    "    print (f\"'{word}' is not a python keyword.\")\n"
   ]
  },
  {
   "cell_type": "markdown",
   "id": "22f08491-5d8c-4d58-a948-6b27b61157d2",
   "metadata": {},
   "source": [
    "Question-5 Create a list and tuple in Python, and demonstrate how attempting to change an element works differently for each?"
   ]
  },
  {
   "cell_type": "code",
   "execution_count": 72,
   "id": "763a07c4-5dec-4ea4-9a99-49f4f853bacf",
   "metadata": {},
   "outputs": [
    {
     "data": {
      "text/plain": [
       "[1, 2, 3.0, 'ajay', True]"
      ]
     },
     "execution_count": 72,
     "metadata": {},
     "output_type": "execute_result"
    }
   ],
   "source": [
    "# 'list' is mutable data type.\n",
    "list=[1,2,3.0,'abhi' , True]\n",
    "list[3]= 'ajay'\n",
    "list"
   ]
  },
  {
   "cell_type": "code",
   "execution_count": 70,
   "id": "2ef9c7b4-8f21-42fa-a2fa-2f1a9d16dfad",
   "metadata": {},
   "outputs": [
    {
     "ename": "TypeError",
     "evalue": "'tuple' object does not support item assignment",
     "output_type": "error",
     "traceback": [
      "\u001b[1;31m---------------------------------------------------------------------------\u001b[0m",
      "\u001b[1;31mTypeError\u001b[0m                                 Traceback (most recent call last)",
      "Cell \u001b[1;32mIn[70], line 2\u001b[0m\n\u001b[0;32m      1\u001b[0m \u001b[38;5;28mtuple\u001b[39m\u001b[38;5;241m=\u001b[39m(\u001b[38;5;241m1\u001b[39m,\u001b[38;5;241m2\u001b[39m,\u001b[38;5;241m3.0\u001b[39m,\u001b[38;5;124m'\u001b[39m\u001b[38;5;124mabhi\u001b[39m\u001b[38;5;124m'\u001b[39m , \u001b[38;5;28;01mTrue\u001b[39;00m)\n\u001b[1;32m----> 2\u001b[0m \u001b[38;5;28mtuple\u001b[39m[\u001b[38;5;241m3\u001b[39m]\u001b[38;5;241m=\u001b[39m \u001b[38;5;124m'\u001b[39m\u001b[38;5;124majay\u001b[39m\u001b[38;5;124m'\u001b[39m\n",
      "\u001b[1;31mTypeError\u001b[0m: 'tuple' object does not support item assignment"
     ]
    }
   ],
   "source": [
    "# 'tuple' is immutable data type ,when u change any element in tuple it will give you an error.\n",
    "tuple=(1,2,3.0,'abhi' , True)\n",
    "tuple[3]= 'ajay'\n"
   ]
  },
  {
   "cell_type": "markdown",
   "id": "70f10b7d-2c41-44c3-bcb8-d14dc70de33c",
   "metadata": {},
   "source": [
    "Question-6 Write a function to demonstrate the behavior of mutable and immutable arguments?"
   ]
  },
  {
   "cell_type": "code",
   "execution_count": 98,
   "id": "1b93f12a-b1a5-4f73-aa3f-65209cd466cc",
   "metadata": {},
   "outputs": [
    {
     "data": {
      "text/plain": [
       "[1, 2, 3.0, 'ajay', True]"
      ]
     },
     "execution_count": 98,
     "metadata": {},
     "output_type": "execute_result"
    }
   ],
   "source": [
    "# 'list' is mutable data type.\n",
    "list=[1,2,3.0,'abhi' , True]\n",
    "list[3]= 'ajay'\n",
    "list"
   ]
  },
  {
   "cell_type": "code",
   "execution_count": 184,
   "id": "eb21ce68-8cb1-4bba-ae5b-00bf2181bc3e",
   "metadata": {},
   "outputs": [
    {
     "ename": "TypeError",
     "evalue": "'str' object does not support item assignment",
     "output_type": "error",
     "traceback": [
      "\u001b[1;31m---------------------------------------------------------------------------\u001b[0m",
      "\u001b[1;31mTypeError\u001b[0m                                 Traceback (most recent call last)",
      "Cell \u001b[1;32mIn[184], line 3\u001b[0m\n\u001b[0;32m      1\u001b[0m \u001b[38;5;66;03m# 'string' is immutable data type.\u001b[39;00m\n\u001b[0;32m      2\u001b[0m name\u001b[38;5;241m=\u001b[39m \u001b[38;5;124m'\u001b[39m\u001b[38;5;124mabhi\u001b[39m\u001b[38;5;124m'\u001b[39m\n\u001b[1;32m----> 3\u001b[0m name[\u001b[38;5;241m1\u001b[39m]\u001b[38;5;241m=\u001b[39m \u001b[38;5;124m'\u001b[39m\u001b[38;5;124ma\u001b[39m\u001b[38;5;124m'\u001b[39m\n",
      "\u001b[1;31mTypeError\u001b[0m: 'str' object does not support item assignment"
     ]
    }
   ],
   "source": [
    "# 'string' is immutable data type.\n",
    "name= 'abhi'\n",
    "name[1]= 'a'"
   ]
  },
  {
   "cell_type": "markdown",
   "id": "6ba2eea2-2515-4405-bd1d-b634e94a2ddb",
   "metadata": {},
   "source": [
    "Question-7 Write a function to demonstrate the behavior of mutable and immutable arguments?"
   ]
  },
  {
   "cell_type": "code",
   "execution_count": 2,
   "id": "564d6767-0a0c-4dba-a4ad-3af513c10082",
   "metadata": {
    "collapsed": true,
    "jupyter": {
     "outputs_hidden": true
    },
    "scrolled": true
   },
   "outputs": [
    {
     "data": {
      "text/plain": [
       "[1, 2, 3.0, 'ajay', True]"
      ]
     },
     "execution_count": 2,
     "metadata": {},
     "output_type": "execute_result"
    }
   ],
   "source": [
    "# 'list' is mutable data type.\n",
    "list=[1,2,3.0,'abhi' , True]\n",
    "list[3]= 'ajay'\n",
    "list"
   ]
  },
  {
   "cell_type": "code",
   "execution_count": 180,
   "id": "7905d677-c862-48bb-9857-d0fb66e19a4c",
   "metadata": {
    "collapsed": true,
    "jupyter": {
     "outputs_hidden": true
    },
    "scrolled": true
   },
   "outputs": [
    {
     "ename": "TypeError",
     "evalue": "'str' object does not support item assignment",
     "output_type": "error",
     "traceback": [
      "\u001b[1;31m---------------------------------------------------------------------------\u001b[0m",
      "\u001b[1;31mTypeError\u001b[0m                                 Traceback (most recent call last)",
      "Cell \u001b[1;32mIn[180], line 3\u001b[0m\n\u001b[0;32m      1\u001b[0m \u001b[38;5;66;03m# 'string' is immutable data type.\u001b[39;00m\n\u001b[0;32m      2\u001b[0m name\u001b[38;5;241m=\u001b[39m \u001b[38;5;124m'\u001b[39m\u001b[38;5;124mabhi\u001b[39m\u001b[38;5;124m'\u001b[39m\n\u001b[1;32m----> 3\u001b[0m name[\u001b[38;5;241m1\u001b[39m]\u001b[38;5;241m=\u001b[39m \u001b[38;5;124m'\u001b[39m\u001b[38;5;124ma\u001b[39m\u001b[38;5;124m'\u001b[39m\n",
      "\u001b[1;31mTypeError\u001b[0m: 'str' object does not support item assignment"
     ]
    }
   ],
   "source": [
    "# 'string' is immutable data type.\n",
    "name= 'abhi'\n",
    "name[1]= 'a'"
   ]
  },
  {
   "cell_type": "markdown",
   "id": "39c38944-2a22-46e9-a822-3b0986433865",
   "metadata": {},
   "source": [
    "Question-8 Write a program to demonstrate the use of logical operators?"
   ]
  },
  {
   "cell_type": "code",
   "execution_count": 155,
   "id": "b0b1ee20-c445-4b06-8d65-d028c719a99a",
   "metadata": {},
   "outputs": [
    {
     "name": "stdout",
     "output_type": "stream",
     "text": [
      " both a and b are positive \n",
      " atleast one of a or b is positive \n",
      "a is not equal to b\n"
     ]
    }
   ],
   "source": [
    "a=10\n",
    "b=30\n",
    "\n",
    "if a > 5 and b > 5 :\n",
    "    print ( ' both a and b are positive ')\n",
    "\n",
    "if a < 5 or b > 5 :\n",
    "    print (' atleast one of a or b is positive ')\n",
    "    \n",
    "if not (a == b):\n",
    "    print ( 'a is not equal to b')"
   ]
  },
  {
   "cell_type": "markdown",
   "id": "99ce88ae-83f3-4b26-be8c-0b2badc840e0",
   "metadata": {},
   "source": [
    "Question-9 Write a Python program to convert user input from string to integer, float, and boolean types ?\n"
   ]
  },
  {
   "cell_type": "code",
   "execution_count": 177,
   "id": "5372b663-13e1-4723-bace-f288ce4d7078",
   "metadata": {},
   "outputs": [],
   "source": [
    "name = 'abhi'\n",
    "name =int(100)\n",
    "\n",
    "na_me= 'abhi'\n",
    "na_me = float(2.3)\n",
    "\n",
    "nam_e= 'abhi'\n",
    "nam_e=bool(True)"
   ]
  },
  {
   "cell_type": "markdown",
   "id": "a096d36e-2dd1-4dba-bc04-8fbf3eb449d9",
   "metadata": {},
   "source": [
    "Question-10 Write code to demonstrate type casting with list elements?"
   ]
  },
  {
   "cell_type": "code",
   "execution_count": 214,
   "id": "dc32e391-2e8d-46db-83f2-41e9d29293a3",
   "metadata": {},
   "outputs": [],
   "source": [
    "str = [1,2,3.0, 'abhi',True]\n",
    "str[3]=100\n",
    "\n",
    "data = [1,2,3.0, 'abhi',True]\n",
    "data[2]=False\n",
    "\n",
    "list=[1,2,3.0, 'abhi',True]\n",
    "list[0]='abhi'"
   ]
  },
  {
   "cell_type": "markdown",
   "id": "b6eeefb0-e6ae-4077-aee4-4324a13df06a",
   "metadata": {},
   "source": [
    "Question-11 Write a program that checks if a number is positive, negative, or zero?"
   ]
  },
  {
   "cell_type": "code",
   "execution_count": 227,
   "id": "c2c47477-27ce-4f24-836d-d4dc5439e787",
   "metadata": {},
   "outputs": [
    {
     "name": "stdin",
     "output_type": "stream",
     "text": [
      "enter a number  2\n"
     ]
    },
    {
     "name": "stdout",
     "output_type": "stream",
     "text": [
      "This is positive \n"
     ]
    }
   ],
   "source": [
    "a=int(input('enter a number '))\n",
    "if a > 0 :\n",
    "    print ('This is positive ')\n",
    "elif a < 0:\n",
    "    print ('This is negative ')\n",
    "else :\n",
    "    print ('This is zero ')\n",
    "    "
   ]
  },
  {
   "cell_type": "markdown",
   "id": "53bdf9cc-56f7-4eb5-9d4c-dcab6de06208",
   "metadata": {},
   "source": [
    "Question-12 Write a for loop to print numbers from 1 to 100?"
   ]
  },
  {
   "cell_type": "code",
   "execution_count": 286,
   "id": "9958b203-1420-4253-a277-ae7c6f4fb4df",
   "metadata": {},
   "outputs": [
    {
     "name": "stdout",
     "output_type": "stream",
     "text": [
      "1 2 3 4 5 6 7 8 9 10 11 12 13 14 15 16 17 18 19 20 21 22 23 24 25 26 27 28 29 30 31 32 33 34 35 36 37 38 39 40 41 42 43 44 45 46 47 48 49 50 51 52 53 54 55 56 57 58 59 60 61 62 63 64 65 66 67 68 69 70 71 72 73 74 75 76 77 78 79 80 81 82 83 84 85 86 87 88 89 90 91 92 93 94 95 96 97 98 99 100 "
     ]
    }
   ],
   "source": [
    "for i in range(1,101):\n",
    "    print (i,end=\" \")\n",
    "\n"
   ]
  },
  {
   "cell_type": "markdown",
   "id": "5ba4239d-1d93-4fd2-ad2e-3e4286972135",
   "metadata": {},
   "source": [
    "Question-13 Write a Python program to find the sum of all even numbers between 1 and 50?"
   ]
  },
  {
   "cell_type": "code",
   "execution_count": 280,
   "id": "2ae0bcdf-88b8-4db1-b6e5-b28fc25b8456",
   "metadata": {},
   "outputs": [
    {
     "name": "stdout",
     "output_type": "stream",
     "text": [
      "even numbers between 1 and 50 is : 2\n",
      "even numbers between 1 and 50 is : 6\n",
      "even numbers between 1 and 50 is : 12\n",
      "even numbers between 1 and 50 is : 20\n",
      "even numbers between 1 and 50 is : 30\n",
      "even numbers between 1 and 50 is : 42\n",
      "even numbers between 1 and 50 is : 56\n",
      "even numbers between 1 and 50 is : 72\n",
      "even numbers between 1 and 50 is : 90\n",
      "even numbers between 1 and 50 is : 110\n",
      "even numbers between 1 and 50 is : 132\n",
      "even numbers between 1 and 50 is : 156\n",
      "even numbers between 1 and 50 is : 182\n",
      "even numbers between 1 and 50 is : 210\n",
      "even numbers between 1 and 50 is : 240\n",
      "even numbers between 1 and 50 is : 272\n",
      "even numbers between 1 and 50 is : 306\n",
      "even numbers between 1 and 50 is : 342\n",
      "even numbers between 1 and 50 is : 380\n",
      "even numbers between 1 and 50 is : 420\n",
      "even numbers between 1 and 50 is : 462\n",
      "even numbers between 1 and 50 is : 506\n",
      "even numbers between 1 and 50 is : 552\n",
      "even numbers between 1 and 50 is : 600\n",
      "even numbers between 1 and 50 is : 650\n"
     ]
    }
   ],
   "source": [
    "su_m = 0\n",
    "for number in range(1, 51):\n",
    "    if number % 2 == 0:\n",
    "        su_m += number\n",
    "        print(\"even numbers between 1 and 50 is :\",su_m)\n"
   ]
  },
  {
   "cell_type": "markdown",
   "id": "e8831bde-bdf0-4ebc-bc1c-c31a5bd17767",
   "metadata": {},
   "source": [
    "Question=1 Write a program to reverse a string using a while loop ?"
   ]
  },
  {
   "cell_type": "code",
   "execution_count": 2,
   "id": "b5a85f51-127d-480f-a0e0-d2323e8ec070",
   "metadata": {},
   "outputs": [
    {
     "name": "stdin",
     "output_type": "stream",
     "text": [
      "Enter a string:  abhi\n"
     ]
    },
    {
     "name": "stdout",
     "output_type": "stream",
     "text": [
      "Reversed string: ihba\n"
     ]
    }
   ],
   "source": [
    "original_string = input(\"Enter a string: \")\n",
    "\n",
    "reversed_string = \"\"\n",
    "\n",
    "index = len(original_string) - 1\n",
    "\n",
    "while index >= 0:\n",
    "    reversed_string +=original_string[index]\n",
    "    index-=1\n",
    "print(\"Reversed string:\", reversed_string)\n"
   ]
  },
  {
   "cell_type": "markdown",
   "id": "cc04b799-89fc-4312-9aed-0c5eb06dcd2a",
   "metadata": {},
   "source": [
    "Question-15 Write a Python program to calculate the factorial of a number provided by the user using a while loop?"
   ]
  },
  {
   "cell_type": "code",
   "execution_count": 26,
   "id": "ec6b9642-7647-44d0-8a02-0d97660f3ec6",
   "metadata": {},
   "outputs": [
    {
     "name": "stdin",
     "output_type": "stream",
     "text": [
      "Enter a non-negative integer:  5\n"
     ]
    },
    {
     "name": "stdout",
     "output_type": "stream",
     "text": [
      "The factorial of 5 is 120.\n"
     ]
    }
   ],
   "source": [
    "number = int(input(\"Enter a non-negative integer: \"))\n",
    "\n",
    "if number < 0:\n",
    "    print(\"Factor is a negative numbers.\")\n",
    "else:\n",
    "    factorial = 1 \n",
    "    i = 1  \n",
    "    \n",
    "    while i <= number:\n",
    "        factorial *= i\n",
    "        i += 1\n",
    "\n",
    "    print(f\"The factorial of {number} is {factorial}.\")\n"
   ]
  },
  {
   "cell_type": "code",
   "execution_count": null,
   "id": "5420a923-d273-49f1-8272-69da6268756a",
   "metadata": {},
   "outputs": [],
   "source": []
  },
  {
   "cell_type": "code",
   "execution_count": null,
   "id": "371b3b9b-0020-4d21-aac6-a5f1930c5bcb",
   "metadata": {},
   "outputs": [],
   "source": []
  }
 ],
 "metadata": {
  "kernelspec": {
   "display_name": "Python 3 (ipykernel)",
   "language": "python",
   "name": "python3"
  },
  "language_info": {
   "codemirror_mode": {
    "name": "ipython",
    "version": 3
   },
   "file_extension": ".py",
   "mimetype": "text/x-python",
   "name": "python",
   "nbconvert_exporter": "python",
   "pygments_lexer": "ipython3",
   "version": "3.12.7"
  }
 },
 "nbformat": 4,
 "nbformat_minor": 5
}
